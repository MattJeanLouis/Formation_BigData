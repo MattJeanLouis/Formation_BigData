{
  "nbformat": 4,
  "nbformat_minor": 0,
  "metadata": {
    "colab": {
      "provenance": [],
      "collapsed_sections": [
        "1rY1D3Y9l604",
        "wRJ_Olc1l_I5"
      ]
    },
    "kernelspec": {
      "name": "python3",
      "display_name": "Python 3"
    },
    "language_info": {
      "name": "python"
    }
  },
  "cells": [
    {
      "cell_type": "markdown",
      "source": [
        "# Exercice 1"
      ],
      "metadata": {
        "id": "1rY1D3Y9l604"
      }
    },
    {
      "cell_type": "code",
      "source": [
        "# 1. Créez une variable 'age' de type entier avec votre âge\n",
        "age = 26 # Votre code ici\n",
        "\n",
        "# 2. Créez une variable 'taille' de type float avec votre taille en mètres\n",
        "taille = 1.83 # Votre code ici\n",
        "\n",
        "# 3. Créez une variable 'nom' de type string avec votre nom\n",
        "nom = \"Pasquier\" # Votre code ici\n",
        "\n",
        "# 4. Créez une variable 'est_etudiant' de type booléen indiquant si vous êtes étudiant ou non\n",
        "est_etudiant = False # Votre code ici\n",
        "\n",
        "# 5. Calculez votre année de naissance en soustrayant votre âge de l'année actuelle (2023)\n",
        "# Indice : Utilisez l'opérateur de soustraction -\n",
        "annee_naissance = 2024 - age # Votre code ici\n",
        "\n",
        "# 6. Créez une chaîne de caractères 'presentation' qui dit \"Je m'appelle [votre nom] et j'ai [votre âge] ans.\"\n",
        "# Indice : Utilisez la f-string (f\"...\") pour inclure des variables dans une chaîne\n",
        "presentation = f\"Je m'appelle {nom} et j'ai {age} ans.\" # Votre code ici\n",
        "\n",
        "# Ne modifiez pas le code ci-dessous\n",
        "resultats = {\n",
        "    \"age\": age,\n",
        "    \"taille\": taille,\n",
        "    \"nom\": nom,\n",
        "    \"est_etudiant\": est_etudiant,\n",
        "    \"annee_naissance\": annee_naissance,\n",
        "    \"presentation\": presentation\n",
        "}"
      ],
      "metadata": {
        "id": "nPjqUEwcfX6D"
      },
      "execution_count": 27,
      "outputs": []
    },
    {
      "cell_type": "code",
      "source": [
        "def test_exercice_facile(resultats):\n",
        "    assert isinstance(resultats[\"age\"], int), \"L'âge doit être un entier\"\n",
        "    assert isinstance(resultats[\"taille\"], float), \"La taille doit être un float\"\n",
        "    assert isinstance(resultats[\"nom\"], str), \"Le nom doit être une chaîne de caractères\"\n",
        "    assert isinstance(resultats[\"est_etudiant\"], bool), \"est_etudiant doit être un booléen\"\n",
        "    assert isinstance(resultats[\"annee_naissance\"], int), \"L'année de naissance doit être un entier\"\n",
        "    assert resultats[\"annee_naissance\"] == 2024 - resultats[\"age\"], \"L'année de naissance n'est pas correcte\"\n",
        "    assert resultats[\"presentation\"] == f\"Je m'appelle {resultats['nom']} et j'ai {resultats['age']} ans.\", \"La présentation n'est pas correcte\"\n",
        "    print(\"Félicitations ! Vous avez réussi l'exercice de niveau facile.\")\n",
        "\n",
        "test_exercice_facile(resultats)"
      ],
      "metadata": {
        "colab": {
          "base_uri": "https://localhost:8080/"
        },
        "id": "KAbuMOULijJF",
        "outputId": "18374ca8-968c-48e3-ff6d-d248bb2fb41d"
      },
      "execution_count": 28,
      "outputs": [
        {
          "output_type": "stream",
          "name": "stdout",
          "text": [
            "Félicitations ! Vous avez réussi l'exercice de niveau facile.\n"
          ]
        }
      ]
    },
    {
      "cell_type": "code",
      "source": [
        "# 1. Créez une variable 'grand_nombre' de type int avec la valeur 1 million, en utilisant la notation avec underscores\n",
        "grand_nombre = 1_000_000\n",
        "\n",
        "# 2. Créez une variable 'pi_approx' de type float avec la valeur approximative de pi (3.14159)\n",
        "pi_approx = 3.14159\n",
        "\n",
        "# 3. Créez une variable 'message' de type string contenant : Python est \"incroyable\" !\n",
        "# Indice : Utilisez des guillemets simples pour entourer toute la chaîne\n",
        "message = 'Python est \"incroyable\" !'\n",
        "\n",
        "# 4. Convertissez 'grand_nombre' en une chaîne de caractères et stockez-le dans 'grand_nombre_str'\n",
        "# Indice : Utilisez la fonction str()\n",
        "grand_nombre_str = str(grand_nombre)\n",
        "\n",
        "# 5. Convertissez 'pi_approx' en un entier et stockez-le dans 'pi_entier'\n",
        "# Indice : Utilisez la fonction int()\n",
        "pi_entier = int(pi_approx)\n",
        "\n",
        "# 6. Créez une variable 'message_uppercase' qui contient 'message' en majuscules\n",
        "# Indice : Utilisez la méthode upper()\n",
        "message_uppercase = message.upper()\n",
        "\n",
        "# 7. Calculez la longueur de 'message' et stockez-la dans 'longueur_message'\n",
        "# Indice : Utilisez la fonction len()\n",
        "longueur_message = len(message)\n",
        "\n",
        "# 8. Vérifiez si 'message' contient le mot \"Python\" et stockez le résultat dans 'contient_python'\n",
        "# Indice : Utilisez l'opérateur in\n",
        "contient_python = \"Python\" in message\n",
        "\n",
        "# Ne modifiez pas le code ci-dessous\n",
        "resultats = {\n",
        "    \"grand_nombre\": grand_nombre,\n",
        "    \"pi_approx\": pi_approx,\n",
        "    \"message\": message,\n",
        "    \"grand_nombre_str\": grand_nombre_str,\n",
        "    \"pi_entier\": pi_entier,\n",
        "    \"message_uppercase\": message_uppercase,\n",
        "    \"longueur_message\": longueur_message,\n",
        "    \"contient_python\": contient_python\n",
        "}\n",
        "\n",
        "print(resultats)\n"
      ],
      "metadata": {
        "colab": {
          "base_uri": "https://localhost:8080/"
        },
        "id": "ycwrR3Dkj7Ru",
        "outputId": "0b8b2369-e61a-4554-e0c7-082d86bdc67a"
      },
      "execution_count": 29,
      "outputs": [
        {
          "output_type": "stream",
          "name": "stdout",
          "text": [
            "{'grand_nombre': 1000000, 'pi_approx': 3.14159, 'message': 'Python est \"incroyable\" !', 'grand_nombre_str': '1000000', 'pi_entier': 3, 'message_uppercase': 'PYTHON EST \"INCROYABLE\" !', 'longueur_message': 25, 'contient_python': True}\n"
          ]
        }
      ]
    },
    {
      "cell_type": "code",
      "source": [
        "def test_exercice_intermediaire(resultats):\n",
        "    assert resultats[\"grand_nombre\"] == 1_000_000, \"grand_nombre doit être égal à 1 million\"\n",
        "    assert abs(resultats[\"pi_approx\"] - 3.14159) < 0.00001, \"pi_approx doit être approximativement égal à 3.14159\"\n",
        "    assert resultats[\"message\"] == 'Python est \"incroyable\" !', \"Le message n'est pas correct\"\n",
        "    assert resultats[\"grand_nombre_str\"] == \"1000000\", \"La conversion de grand_nombre en string n'est pas correcte\"\n",
        "    assert resultats[\"pi_entier\"] == 3, \"La conversion de pi_approx en entier n'est pas correcte\"\n",
        "    assert resultats[\"message_uppercase\"] == 'PYTHON EST \"INCROYABLE\" !', \"La conversion en majuscules n'est pas correcte\"\n",
        "    assert resultats[\"longueur_message\"] == len(message), \"La longueur du message n'est pas correcte\"\n",
        "    assert resultats[\"contient_python\"] == True, \"La vérification de la présence de 'Python' n'est pas correcte\"\n",
        "    print(\"Félicitations ! Vous avez réussi l'exercice de niveau intermédiaire.\")\n",
        "\n",
        "test_exercice_intermediaire(resultats)"
      ],
      "metadata": {
        "colab": {
          "base_uri": "https://localhost:8080/"
        },
        "id": "FCFL6tvbj8kx",
        "outputId": "00d059cb-8b5f-42fe-d479-e8b0d8f9f437"
      },
      "execution_count": 30,
      "outputs": [
        {
          "output_type": "stream",
          "name": "stdout",
          "text": [
            "Félicitations ! Vous avez réussi l'exercice de niveau intermédiaire.\n"
          ]
        }
      ]
    },
    {
      "cell_type": "markdown",
      "source": [
        "# Exercice 2"
      ],
      "metadata": {
        "id": "wRJ_Olc1l_I5"
      }
    },
    {
      "cell_type": "code",
      "source": [
        "# Partie 1 : Niveau Facile\n",
        "\n",
        "# 1. Créez une liste 'fruits' contenant 5 noms de fruits différents\n",
        "fruits = [\"pomme\", \"banane\", \"orange\", \"mangue\", \"raisin\"]\n",
        "\n",
        "# 2. Ajoutez un fruit à la fin de la liste\n",
        "fruits.append(\"kiwi\")\n",
        "\n",
        "# 3. Créez un tuple 'coordonnees' contenant deux valeurs : latitude et longitude\n",
        "coordonnees = (48.8566, 2.3522)\n",
        "\n",
        "# 4. Créez un dictionnaire 'personne' avec les clés 'nom', 'age' et 'ville'\n",
        "personne = {\"nom\": \"Alice\", \"age\": 30, \"ville\": \"Paris\"}\n",
        "\n",
        "# 5. Ajoutez une nouvelle clé 'profession' au dictionnaire 'personne'\n",
        "personne[\"profession\"] = \"Ingénieure\"\n",
        "\n",
        "# 6. Créez un ensemble 'couleurs' contenant 4 noms de couleurs\n",
        "couleurs = {\"rouge\", \"bleu\", \"vert\", \"jaune\"}\n",
        "\n",
        "# 7. Ajoutez une nouvelle couleur à l'ensemble 'couleurs'\n",
        "couleurs.add(\"violet\")\n",
        "\n",
        "# Ne modifiez pas le code ci-dessous\n",
        "resultats = {\n",
        "    \"fruits\": fruits,\n",
        "    \"coordonnees\": coordonnees,\n",
        "    \"personne\": personne,\n",
        "    \"couleurs\": couleurs\n",
        "}\n"
      ],
      "metadata": {
        "id": "aCND6iWBmCt1"
      },
      "execution_count": 20,
      "outputs": []
    },
    {
      "cell_type": "code",
      "source": [
        "# Code de test pour la Partie 1\n",
        "def test_exercice_facile(resultats):\n",
        "    assert len(resultats[\"fruits\"]) == 6, \"La liste fruits doit contenir 6 éléments\"\n",
        "    assert isinstance(resultats[\"coordonnees\"], tuple) and len(resultats[\"coordonnees\"]) == 2, \"coordonnees doit être un tuple de 2 éléments\"\n",
        "    assert set(resultats[\"personne\"].keys()) == {\"nom\", \"age\", \"ville\", \"profession\"}, \"Le dictionnaire personne doit avoir les clés 'nom', 'age', 'ville' et 'profession'\"\n",
        "    assert len(resultats[\"couleurs\"]) == 5, \"L'ensemble couleurs doit contenir 5 éléments\"\n",
        "    print(\"Félicitations ! Vous avez réussi l'exercice de niveau facile.\")\n",
        "\n",
        "test_exercice_facile(resultats)"
      ],
      "metadata": {
        "colab": {
          "base_uri": "https://localhost:8080/"
        },
        "id": "7qaqt71EmLE-",
        "outputId": "e0e7ad83-2ea2-4471-f25f-a80acb5aca06"
      },
      "execution_count": 22,
      "outputs": [
        {
          "output_type": "stream",
          "name": "stdout",
          "text": [
            "Félicitations ! Vous avez réussi l'exercice de niveau facile.\n"
          ]
        }
      ]
    },
    {
      "cell_type": "code",
      "source": [
        "# Partie 2 : Niveau Intermédiaire\n",
        "\n",
        "# 1. Créez une liste 'nombres' contenant les nombres de 1 à 10\n",
        "nombres = list(range(1, 11))\n",
        "\n",
        "# 2. Utilisez une compréhension de liste pour créer 'nombres_pairs' contenant les nombres pairs de 'nombres'\n",
        "nombres_pairs = [x for x in nombres if x % 2 == 0]\n",
        "\n",
        "# 3. Créez un dictionnaire 'carre_nombres' où les clés sont les nombres de 1 à 5 et les valeurs sont leurs carrés\n",
        "carre_nombres = {x: x**2 for x in range(1, 6)}\n",
        "\n",
        "# 4. Créez deux ensembles : 'ensemble1' contenant les nombres de 1 à 5, et 'ensemble2' contenant les nombres de 4 à 8\n",
        "ensemble1 = set(range(1, 6))\n",
        "ensemble2 = set(range(4, 9))\n",
        "\n",
        "# 5. Calculez l'union de 'ensemble1' et 'ensemble2'\n",
        "union = ensemble1 | ensemble2\n",
        "\n",
        "# 6. Calculez l'intersection de 'ensemble1' et 'ensemble2'\n",
        "intersection = ensemble1 & ensemble2\n",
        "\n",
        "# 7. Calculez la différence entre 'ensemble1' et 'ensemble2'\n",
        "difference = ensemble1 - ensemble2\n",
        "\n",
        "# 8. Créez une liste 'mots' contenant 5 mots de votre choix, puis triez-la par ordre alphabétique\n",
        "mots = sorted([\"python\", \"apprendre\", \"exercice\", \"code\", \"structure\"])\n",
        "\n",
        "# Ne modifiez pas le code ci-dessous\n",
        "resultats = {\n",
        "    \"nombres\": nombres,\n",
        "    \"nombres_pairs\": nombres_pairs,\n",
        "    \"carre_nombres\": carre_nombres,\n",
        "    \"ensemble1\": ensemble1,\n",
        "    \"ensemble2\": ensemble2,\n",
        "    \"union\": union,\n",
        "    \"intersection\": intersection,\n",
        "    \"difference\": difference,\n",
        "    \"mots\": mots\n",
        "}"
      ],
      "metadata": {
        "id": "BI95GThxmSiW"
      },
      "execution_count": 25,
      "outputs": []
    },
    {
      "cell_type": "code",
      "source": [
        "# Code de test pour la Partie 2\n",
        "def test_exercice_intermediaire(resultats):\n",
        "    assert resultats[\"nombres\"] == list(range(1, 11)), \"La liste nombres doit contenir les nombres de 1 à 10\"\n",
        "    assert resultats[\"nombres_pairs\"] == [2, 4, 6, 8, 10], \"nombres_pairs doit contenir les nombres pairs de 1 à 10\"\n",
        "    assert resultats[\"carre_nombres\"] == {1: 1, 2: 4, 3: 9, 4: 16, 5: 25}, \"carre_nombres n'est pas correct\"\n",
        "    assert resultats[\"ensemble1\"] == set(range(1, 6)) and resultats[\"ensemble2\"] == set(range(4, 9)), \"ensemble1 ou ensemble2 n'est pas correct\"\n",
        "    assert resultats[\"union\"] == set(range(1, 9)), \"L'union n'est pas correcte\"\n",
        "    assert resultats[\"intersection\"] == {4, 5}, \"L'intersection n'est pas correcte\"\n",
        "    assert resultats[\"difference\"] == {1, 2, 3}, \"La différence n'est pas correcte\"\n",
        "    assert len(resultats[\"mots\"]) == 5 and resultats[\"mots\"] == sorted(resultats[\"mots\"]), \"La liste mots doit contenir 5 mots triés par ordre alphabétique\"\n",
        "    print(\"Félicitations ! Vous avez réussi l'exercice de niveau intermédiaire.\")\n",
        "\n",
        "test_exercice_intermediaire(resultats)"
      ],
      "metadata": {
        "colab": {
          "base_uri": "https://localhost:8080/"
        },
        "id": "Si0lZ01vmVAZ",
        "outputId": "3b745a23-31f9-44fe-929b-2bf3056574df"
      },
      "execution_count": 26,
      "outputs": [
        {
          "output_type": "stream",
          "name": "stdout",
          "text": [
            "Félicitations ! Vous avez réussi l'exercice de niveau intermédiaire.\n"
          ]
        }
      ]
    },
    {
      "cell_type": "markdown",
      "source": [
        "# Exercice 3"
      ],
      "metadata": {
        "id": "SGkL7i9mqPBK"
      }
    },
    {
      "cell_type": "code",
      "source": [
        "# Utilisez a = 10 et b = 3 pour les calculs suivants\n",
        "a, b = 10, 3\n",
        "\n",
        "# 1. Calculez la somme de a et b\n",
        "somme = a + b\n",
        "\n",
        "# 2. Calculez la différence entre a et b\n",
        "difference = a - b\n",
        "\n",
        "# 3. Calculez le produit de a et b\n",
        "produit = a * b\n",
        "\n",
        "# 4. Calculez le quotient (division flottante) de a par b\n",
        "quotient = a / b\n",
        "\n",
        "# 5. Calculez le reste de la division de a par b\n",
        "# Indice : Utilisez l'opérateur %\n",
        "reste = a % b\n",
        "\n",
        "# 6. Vérifiez si a est supérieur à b\n",
        "a_superieur_b = a > b\n",
        "\n",
        "# 7. Vérifiez si a est égal à 10 ET b est égal à 3\n",
        "# Indice : Utilisez l'opérateur 'and'\n",
        "condition_et = (a == 10) and (b == 3)\n",
        "\n",
        "# 8. Vérifiez si la lettre 'p' est dans le mot 'Python'\n",
        "# Indice : Utilisez l'opérateur 'in'\n",
        "p_dans_python = 'p' in 'Python'.lower()\n",
        "\n",
        "# Ne modifiez pas le code ci-dessous\n",
        "resultats = {\n",
        "    \"somme\": somme,\n",
        "    \"difference\": difference,\n",
        "    \"produit\": produit,\n",
        "    \"quotient\": quotient,\n",
        "    \"reste\": reste,\n",
        "    \"a_superieur_b\": a_superieur_b,\n",
        "    \"condition_et\": condition_et,\n",
        "    \"p_dans_python\": p_dans_python\n",
        "}\n",
        "\n",
        "print(resultats)"
      ],
      "metadata": {
        "colab": {
          "base_uri": "https://localhost:8080/"
        },
        "id": "KmIJZLD6qUKk",
        "outputId": "2c74dbf7-2dd6-4f68-891a-ed1b7d881723"
      },
      "execution_count": 40,
      "outputs": [
        {
          "output_type": "stream",
          "name": "stdout",
          "text": [
            "{'somme': 13, 'difference': 7, 'produit': 30, 'quotient': 3.3333333333333335, 'reste': 1, 'a_superieur_b': True, 'condition_et': True, 'p_dans_python': True}\n"
          ]
        }
      ]
    },
    {
      "cell_type": "code",
      "source": [
        "def test_exercice_facile(resultats):\n",
        "    assert resultats[\"somme\"] == 13, \"La somme n'est pas correcte\"\n",
        "    assert resultats[\"difference\"] == 7, \"La différence n'est pas correcte\"\n",
        "    assert resultats[\"produit\"] == 30, \"Le produit n'est pas correct\"\n",
        "    assert abs(resultats[\"quotient\"] - 3.3333) < 0.0001, \"Le quotient n'est pas correct\"\n",
        "    assert resultats[\"reste\"] == 1, \"Le reste n'est pas correct\"\n",
        "    assert resultats[\"a_superieur_b\"] == True, \"La comparaison n'est pas correcte\"\n",
        "    assert resultats[\"condition_et\"] == True, \"La condition ET n'est pas correcte\"\n",
        "    assert resultats[\"p_dans_python\"] == True, \"La vérification d'appartenance n'est pas correcte\"\n",
        "    print(\"Félicitations ! Vous avez réussi l'exercice de niveau facile.\")\n",
        "\n",
        "test_exercice_facile(resultats)"
      ],
      "metadata": {
        "colab": {
          "base_uri": "https://localhost:8080/"
        },
        "id": "UdrWGDnzqYLE",
        "outputId": "93c7eb1a-5d88-4c85-c7a9-2c943de4ad44"
      },
      "execution_count": 41,
      "outputs": [
        {
          "output_type": "stream",
          "name": "stdout",
          "text": [
            "Félicitations ! Vous avez réussi l'exercice de niveau facile.\n"
          ]
        }
      ]
    },
    {
      "cell_type": "code",
      "source": [
        "# 1. Calculez le résultat de l'expression : (a + b) * (a - b) / (a % b), où a = 17 et b = 5\n",
        "a, b = 17, 5\n",
        "resultat_complexe = (a + b) * (a - b) / (a % b)\n",
        "\n",
        "# 2. Créez une liste 'nombres' contenant les carrés des nombres de 1 à 5\n",
        "# Indice : Utilisez une compréhension de liste\n",
        "nombres = [x**2 for x in range(1, 6)]\n",
        "\n",
        "# 3. Vérifiez si la somme des éléments de 'nombres' est supérieure à 50 ET si le dernier élément est pair\n",
        "# Indice : Utilisez sum() pour la somme et % pour vérifier si un nombre est pair\n",
        "condition_complexe = sum(nombres) > 50 and nombres[-1] % 2 == 0\n",
        "\n",
        "# 4. Créez une chaîne 'phrase' contenant : \"Python est un langage de programmation puissant\"\n",
        "phrase = \"Python est un langage de programmation puissant\"\n",
        "\n",
        "# 5. Comptez le nombre de fois où la lettre 'a' apparaît dans 'phrase' (sans tenir compte de la casse)\n",
        "# Indice : Utilisez lower() et count()\n",
        "compte_a = phrase.lower().count('a')\n",
        "\n",
        "# 6. Vérifiez si 'phrase' contient le mot \"langage\" OU le mot \"code\" (sans tenir compte de la casse)\n",
        "# Indice : Utilisez lower() et in\n",
        "contient_mot = \"langage\" in phrase.lower() or \"code\" in phrase.lower()\n",
        "\n",
        "# 7. Créez une nouvelle liste 'nouveaux_nombres' contenant les éléments de 'nombres' multipliés par 2 si l'élément est pair, sinon divisés par 2\n",
        "# Indice : Utilisez une compréhension de liste avec une expression conditionnelle\n",
        "nouveaux_nombres = [x * 2 if x % 2 == 0 else x / 2 for x in nombres]\n",
        "\n",
        "# Ne modifiez pas le code ci-dessous\n",
        "resultats = {\n",
        "    \"resultat_complexe\": resultat_complexe,\n",
        "    \"nombres\": nombres,\n",
        "    \"condition_complexe\": condition_complexe,\n",
        "    \"phrase\": phrase,\n",
        "    \"compte_a\": compte_a,\n",
        "    \"contient_mot\": contient_mot,\n",
        "    \"nouveaux_nombres\": nouveaux_nombres\n",
        "}\n",
        "\n",
        "print(resultats)"
      ],
      "metadata": {
        "colab": {
          "base_uri": "https://localhost:8080/"
        },
        "id": "VJ6GkBJAqdRo",
        "outputId": "fe9e01ae-631a-4bcf-e9df-ee5fe35c1f5b"
      },
      "execution_count": 42,
      "outputs": [
        {
          "output_type": "stream",
          "name": "stdout",
          "text": [
            "{'resultat_complexe': 132.0, 'nombres': [1, 4, 9, 16, 25], 'condition_complexe': False, 'phrase': 'Python est un langage de programmation puissant', 'compte_a': 5, 'contient_mot': True, 'nouveaux_nombres': [0.5, 8, 4.5, 32, 12.5]}\n"
          ]
        }
      ]
    },
    {
      "cell_type": "code",
      "source": [
        "def test_exercice_intermediaire(resultats):\n",
        "    assert abs(resultats[\"resultat_complexe\"] - 132.0) < 0.01, \"Le résultat complexe n'est pas correct\"\n",
        "    assert resultats[\"nombres\"] == [1, 4, 9, 16, 25], \"La liste 'nombres' n'est pas correcte\"\n",
        "    assert resultats[\"condition_complexe\"] == False, \"La condition complexe n'est pas correcte\"\n",
        "    assert resultats[\"phrase\"] == \"Python est un langage de programmation puissant\", \"La phrase n'est pas correcte\"\n",
        "    assert resultats[\"compte_a\"] == 5, \"Le compte de 'a' n'est pas correct\"\n",
        "    assert resultats[\"contient_mot\"] == True, \"La vérification de présence de mot n'est pas correcte\"\n",
        "    assert resultats[\"nouveaux_nombres\"] == [0.5, 8, 4.5, 32, 12.5], \"La liste 'nouveaux_nombres' n'est pas correcte\"\n",
        "    print(\"Félicitations ! Vous avez réussi l'exercice de niveau intermédiaire.\")\n",
        "\n",
        "test_exercice_intermediaire(resultats)"
      ],
      "metadata": {
        "colab": {
          "base_uri": "https://localhost:8080/"
        },
        "id": "Ff20iYijqfXw",
        "outputId": "1d38dd47-d95a-4623-d45c-9fc36f4c3d7b"
      },
      "execution_count": 43,
      "outputs": [
        {
          "output_type": "stream",
          "name": "stdout",
          "text": [
            "Félicitations ! Vous avez réussi l'exercice de niveau intermédiaire.\n"
          ]
        }
      ]
    },
    {
      "cell_type": "markdown",
      "source": [
        "# Exercice 4"
      ],
      "metadata": {
        "id": "xy-r_m3EsEJB"
      }
    },
    {
      "cell_type": "code",
      "source": [
        "# 1. Écrivez une fonction 'est_pair' qui prend un nombre en paramètre et retourne 'pair' s'il est pair, 'impair' sinon\n",
        "def est_pair(nombre):\n",
        "    # Utilise l'opérateur modulo % pour vérifier si le nombre est pair ou impair\n",
        "    if nombre % 2 == 0:\n",
        "        return \"pair\"\n",
        "    else:\n",
        "        return \"impair\"\n",
        "\n",
        "# 2. Écrivez une fonction 'salutation' qui prend un nom en paramètre et retourne 'Bonjour [nom]' si le nom est fourni, sinon 'Bonjour invité'\n",
        "def salutation(nom=None):\n",
        "    # Vérifie si un nom est fourni; sinon, utilise \"invité\"\n",
        "    if nom:\n",
        "        return f\"Bonjour {nom}\"\n",
        "    else:\n",
        "        return \"Bonjour invité\"\n",
        "\n",
        "# 3. Utilisez une boucle for pour créer une liste 'carres' contenant les carrés des nombres de 1 à 5\n",
        "carres = []\n",
        "for i in range(1, 6):\n",
        "    carres.append(i**2)\n",
        "\n",
        "# 4. Utilisez une boucle while pour créer une liste 'compte_a_rebours' contenant les nombres de 5 à 1 dans l'ordre décroissant\n",
        "compte_a_rebours = []\n",
        "i = 5\n",
        "while i > 0:\n",
        "    compte_a_rebours.append(i)\n",
        "    i -= 1\n",
        "\n",
        "# Ne modifiez pas le code ci-dessous\n",
        "resultats = {\n",
        "    \"est_pair_4\": est_pair(4),\n",
        "    \"est_pair_7\": est_pair(7),\n",
        "    \"salutation_Alice\": salutation(\"Alice\"),\n",
        "    \"salutation_sans_nom\": salutation(),\n",
        "    \"carres\": carres,\n",
        "    \"compte_a_rebours\": compte_a_rebours\n",
        "}\n",
        "\n",
        "print(resultats)\n"
      ],
      "metadata": {
        "colab": {
          "base_uri": "https://localhost:8080/"
        },
        "id": "I1NhbsAIsH5I",
        "outputId": "c081ce40-6ac3-4954-8dd7-38ba9c4ba392"
      },
      "execution_count": 44,
      "outputs": [
        {
          "output_type": "stream",
          "name": "stdout",
          "text": [
            "{'est_pair_4': 'pair', 'est_pair_7': 'impair', 'salutation_Alice': 'Bonjour Alice', 'salutation_sans_nom': 'Bonjour invité', 'carres': [1, 4, 9, 16, 25], 'compte_a_rebours': [5, 4, 3, 2, 1]}\n"
          ]
        }
      ]
    },
    {
      "cell_type": "code",
      "source": [
        "def test_exercice_facile(resultats):\n",
        "    assert resultats[\"est_pair_4\"] == \"pair\", \"La fonction est_pair ne fonctionne pas correctement pour 4\"\n",
        "    assert resultats[\"est_pair_7\"] == \"impair\", \"La fonction est_pair ne fonctionne pas correctement pour 7\"\n",
        "    assert resultats[\"salutation_Alice\"] == \"Bonjour Alice\", \"La fonction salutation ne fonctionne pas correctement avec un nom\"\n",
        "    assert resultats[\"salutation_sans_nom\"] == \"Bonjour invité\", \"La fonction salutation ne fonctionne pas correctement sans nom\"\n",
        "    assert resultats[\"carres\"] == [1, 4, 9, 16, 25], \"La liste carres n'est pas correcte\"\n",
        "    assert resultats[\"compte_a_rebours\"] == [5, 4, 3, 2, 1], \"La liste compte_a_rebours n'est pas correcte\"\n",
        "    print(\"Félicitations ! Vous avez réussi l'exercice de niveau facile.\")\n",
        "\n",
        "test_exercice_facile(resultats)"
      ],
      "metadata": {
        "colab": {
          "base_uri": "https://localhost:8080/"
        },
        "id": "6MvsZG5psSHB",
        "outputId": "24a287b7-1da5-4d6e-b620-77edddb8d001"
      },
      "execution_count": 45,
      "outputs": [
        {
          "output_type": "stream",
          "name": "stdout",
          "text": [
            "Félicitations ! Vous avez réussi l'exercice de niveau facile.\n"
          ]
        }
      ]
    },
    {
      "cell_type": "code",
      "source": [
        "# 1. Écrivez une fonction 'fibonacci' qui prend un nombre n en paramètre et retourne une liste des n premiers nombres de la suite de Fibonacci\n",
        "def fibonacci(n):\n",
        "    # Initialiser la liste avec les deux premiers nombres de Fibonacci\n",
        "    sequence = [0, 1]\n",
        "    # Ajouter les nombres suivants jusqu'à atteindre la longueur n\n",
        "    for i in range(2, n):\n",
        "        sequence.append(sequence[-1] + sequence[-2])\n",
        "    return sequence[:n]\n",
        "\n",
        "# 2. Écrivez une fonction 'premier' qui prend un nombre en paramètre et retourne True s'il est premier, False sinon\n",
        "def premier(nombre):\n",
        "    # Un nombre inférieur à 2 n'est pas premier\n",
        "    if nombre < 2:\n",
        "        return False\n",
        "    # Vérifier les divisibilités jusqu'à la racine carrée de nombre\n",
        "    for i in range(2, int(nombre ** 0.5) + 1):\n",
        "        if nombre % i == 0:\n",
        "            return False\n",
        "    return True\n",
        "\n",
        "# 3. Utilisez une boucle et la fonction 'premier' pour créer une liste 'nombres_premiers' contenant tous les nombres premiers inférieurs à 50\n",
        "nombres_premiers = [x for x in range(2, 50) if premier(x)]\n",
        "\n",
        "# 4. Écrivez une fonction 'somme_pairs' qui prend une liste de nombres en paramètre et retourne la somme de tous les nombres pairs de la liste\n",
        "def somme_pairs(nombres):\n",
        "    # Utiliser une boucle pour additionner les nombres pairs\n",
        "    return sum(x for x in nombres if x % 2 == 0)\n",
        "\n",
        "# 5. Utilisez une boucle for avec 'break' pour trouver le premier nombre divisible par 7 et 3 entre 1 et 100\n",
        "premier_divisible = None\n",
        "for i in range(1, 101):\n",
        "    if i % 7 == 0 and i % 3 == 0:\n",
        "        premier_divisible = i\n",
        "        break\n",
        "\n",
        "# Ne modifiez pas le code ci-dessous\n",
        "resultats = {\n",
        "    \"fibonacci_7\": fibonacci(7),\n",
        "    \"premier_17\": premier(17),\n",
        "    \"premier_24\": premier(24),\n",
        "    \"nombres_premiers\": nombres_premiers,\n",
        "    \"somme_pairs\": somme_pairs([1, 2, 3, 4, 5, 6, 7, 8, 9, 10]),\n",
        "    \"premier_divisible\": premier_divisible\n",
        "}\n",
        "\n",
        "print(resultats)"
      ],
      "metadata": {
        "colab": {
          "base_uri": "https://localhost:8080/"
        },
        "id": "yWmRuOdAsVJi",
        "outputId": "de1b57a4-0412-48bf-82bf-4f5a95549804"
      },
      "execution_count": 46,
      "outputs": [
        {
          "output_type": "stream",
          "name": "stdout",
          "text": [
            "{'fibonacci_7': [0, 1, 1, 2, 3, 5, 8], 'premier_17': True, 'premier_24': False, 'nombres_premiers': [2, 3, 5, 7, 11, 13, 17, 19, 23, 29, 31, 37, 41, 43, 47], 'somme_pairs': 30, 'premier_divisible': 21}\n"
          ]
        }
      ]
    },
    {
      "cell_type": "code",
      "source": [
        "def test_exercice_intermediaire(resultats):\n",
        "    assert resultats[\"fibonacci_7\"] == [0, 1, 1, 2, 3, 5, 8], \"La fonction fibonacci ne fonctionne pas correctement\"\n",
        "    assert resultats[\"premier_17\"] == True, \"La fonction premier ne fonctionne pas correctement pour 17\"\n",
        "    assert resultats[\"premier_24\"] == False, \"La fonction premier ne fonctionne pas correctement pour 24\"\n",
        "    assert resultats[\"nombres_premiers\"] == [2, 3, 5, 7, 11, 13, 17, 19, 23, 29, 31, 37, 41, 43, 47], \"La liste nombres_premiers n'est pas correcte\"\n",
        "    assert resultats[\"somme_pairs\"] == 30, \"La fonction somme_pairs ne fonctionne pas correctement\"\n",
        "    assert resultats[\"premier_divisible\"] == 21, \"Le premier nombre divisible par 7 et 3 n'est pas correct\"\n",
        "    print(\"Félicitations ! Vous avez réussi l'exercice de niveau intermédiaire.\")\n",
        "\n",
        "test_exercice_intermediaire(resultats)"
      ],
      "metadata": {
        "colab": {
          "base_uri": "https://localhost:8080/"
        },
        "id": "Ud70D0JdsV_o",
        "outputId": "300c9241-0e4b-41b2-a7d0-feb2b86f6a89"
      },
      "execution_count": 47,
      "outputs": [
        {
          "output_type": "stream",
          "name": "stdout",
          "text": [
            "Félicitations ! Vous avez réussi l'exercice de niveau intermédiaire.\n"
          ]
        }
      ]
    },
    {
      "cell_type": "markdown",
      "source": [
        "# Exercice 5"
      ],
      "metadata": {
        "id": "amE00IQOtTkY"
      }
    },
    {
      "cell_type": "code",
      "source": [
        "# 1. Créez une fonction 'saluer' qui prend un nom en paramètre et un paramètre optionnel 'salutation' avec une valeur par défaut de \"Bonjour\"\n",
        "# La fonction doit retourner une chaîne de caractères au format \"[salutation], [nom]!\"\n",
        "def saluer(nom, salutation=\"Bonjour\"):\n",
        "    # Utilise une f-string pour formater la sortie\n",
        "    return f\"{salutation}, {nom}!\"\n",
        "\n",
        "# 2. Créez une fonction 'calculer' qui prend deux nombres et une opération ('+', '-', '*', '/') en paramètres\n",
        "# La fonction doit retourner le résultat de l'opération sur les deux nombres\n",
        "def calculer(a, b, operation):\n",
        "    # Utilise un dictionnaire pour associer les opérations aux fonctions correspondantes\n",
        "    operations = {\n",
        "        '+': a + b,\n",
        "        '-': a - b,\n",
        "        '*': a * b,\n",
        "        '/': a / b if b != 0 else \"Division par zéro impossible\"\n",
        "    }\n",
        "    return operations.get(operation, \"Opération non valide\")\n",
        "\n",
        "# 3. Créez une fonction lambda 'carre' qui prend un nombre en paramètre et retourne son carré\n",
        "carre = lambda x: x ** 2\n",
        "\n",
        "# Ne modifiez pas le code ci-dessous\n",
        "resultats = {\n",
        "    \"saluer_default\": saluer(\"Alice\"),\n",
        "    \"saluer_personnalise\": saluer(\"Bob\", \"Salut\"),\n",
        "    \"calculer_addition\": calculer(5, 3, '+'),\n",
        "    \"calculer_multiplication\": calculer(4, 7, '*'),\n",
        "    \"carre_5\": carre(5)\n",
        "}\n",
        "\n",
        "print(resultats)\n"
      ],
      "metadata": {
        "colab": {
          "base_uri": "https://localhost:8080/"
        },
        "collapsed": true,
        "id": "Ye2ypXM9tVhn",
        "outputId": "5497b56b-bde3-4d33-8bcb-5e44763f0a51"
      },
      "execution_count": 49,
      "outputs": [
        {
          "output_type": "stream",
          "name": "stdout",
          "text": [
            "{'saluer_default': 'Bonjour, Alice!', 'saluer_personnalise': 'Salut, Bob!', 'calculer_addition': 8, 'calculer_multiplication': 28, 'carre_5': 25}\n"
          ]
        }
      ]
    },
    {
      "cell_type": "code",
      "source": [
        "def test_exercice_facile(resultats):\n",
        "    assert resultats[\"saluer_default\"] == \"Bonjour, Alice!\", \"La fonction saluer ne fonctionne pas correctement avec la salutation par défaut\"\n",
        "    assert resultats[\"saluer_personnalise\"] == \"Salut, Bob!\", \"La fonction saluer ne fonctionne pas correctement avec une salutation personnalisée\"\n",
        "    assert resultats[\"calculer_addition\"] == 8, \"La fonction calculer ne fonctionne pas correctement pour l'addition\"\n",
        "    assert resultats[\"calculer_multiplication\"] == 28, \"La fonction calculer ne fonctionne pas correctement pour la multiplication\"\n",
        "    assert resultats[\"carre_5\"] == 25, \"La fonction lambda carre ne fonctionne pas correctement\"\n",
        "    print(\"Félicitations ! Vous avez réussi l'exercice de niveau facile.\")\n",
        "\n",
        "test_exercice_facile(resultats)"
      ],
      "metadata": {
        "colab": {
          "base_uri": "https://localhost:8080/"
        },
        "id": "A3manOmFtYDg",
        "outputId": "e5955641-8f0b-4d79-c716-e7bb71a55ee0"
      },
      "execution_count": 50,
      "outputs": [
        {
          "output_type": "stream",
          "name": "stdout",
          "text": [
            "Félicitations ! Vous avez réussi l'exercice de niveau facile.\n"
          ]
        }
      ]
    },
    {
      "cell_type": "code",
      "source": [
        "# 1. Créez une fonction 'moyenne' qui peut prendre un nombre variable d'arguments et retourne leur moyenne\n",
        "def moyenne(*args):\n",
        "    # Utilise sum() pour la somme des arguments et len() pour le nombre d'arguments\n",
        "    return sum(args) / len(args) if args else 0\n",
        "\n",
        "# 2. Créez une fonction 'info_personne' qui prend un nombre variable d'arguments nommés et les affiche sous forme de paires clé-valeur\n",
        "def info_personne(**kwargs):\n",
        "    # Parcourt les items de kwargs et affiche chaque clé et valeur\n",
        "    for clé, valeur in kwargs.items():\n",
        "        print(f\"{clé}: {valeur}\")\n",
        "\n",
        "# 3. Créez un décorateur 'timer' qui mesure le temps d'exécution d'une fonction\n",
        "import time\n",
        "\n",
        "def timer(func):\n",
        "    def wrapper(*args, **kwargs):\n",
        "        # Mesure le temps avant l'exécution\n",
        "        start_time = time.time()\n",
        "        result = func(*args, **kwargs)\n",
        "        # Mesure le temps après l'exécution\n",
        "        end_time = time.time()\n",
        "        # Calcule et affiche le temps d'exécution\n",
        "        elapsed_time = end_time - start_time\n",
        "        print(f\"Temps d'exécution: {elapsed_time} secondes\")\n",
        "        return elapsed_time  # Retourner le temps écoulé pour qu'il soit capturé par le test\n",
        "    return wrapper\n",
        "\n",
        "# 4. Utilisez le décorateur 'timer' sur une fonction 'attendre' qui attend 2 secondes\n",
        "@timer\n",
        "def attendre():\n",
        "    time.sleep(2)\n",
        "\n",
        "# 5. Créez une fonction 'appliquer' qui prend une fonction et une liste en paramètres, et applique la fonction à chaque élément de la liste\n",
        "def appliquer(func, liste):\n",
        "    # Utilise une compréhension de liste pour appliquer la fonction à chaque élément\n",
        "    return [func(x) for x in liste]\n",
        "\n",
        "# Ne modifiez pas le code ci-dessous\n",
        "resultats = {\n",
        "    \"moyenne_3_nombres\": moyenne(4, 7, 10),\n",
        "    \"moyenne_5_nombres\": moyenne(1, 2, 3, 4, 5),\n",
        "    \"info_personne\": info_personne(nom=\"Alice\", age=30, ville=\"Paris\"),\n",
        "    \"temps_attente\": attendre(),\n",
        "    \"appliquer_carre\": appliquer(lambda x: x**2, [1, 2, 3, 4, 5])\n",
        "}\n",
        "\n",
        "print(resultats)"
      ],
      "metadata": {
        "colab": {
          "base_uri": "https://localhost:8080/"
        },
        "id": "a4zRI9NCtYwH",
        "outputId": "cb3b0ad6-8a5e-4fd4-c060-eb7fbd32b35c"
      },
      "execution_count": 53,
      "outputs": [
        {
          "output_type": "stream",
          "name": "stdout",
          "text": [
            "nom: Alice\n",
            "age: 30\n",
            "ville: Paris\n",
            "Temps d'exécution: 2.002103090286255 secondes\n",
            "{'moyenne_3_nombres': 7.0, 'moyenne_5_nombres': 3.0, 'info_personne': None, 'temps_attente': 2.002103090286255, 'appliquer_carre': [1, 4, 9, 16, 25]}\n"
          ]
        }
      ]
    },
    {
      "cell_type": "code",
      "source": [
        "def test_exercice_intermediaire(resultats):\n",
        "    assert abs(resultats[\"moyenne_3_nombres\"] - 7) < 0.01, \"La fonction moyenne ne fonctionne pas correctement pour 3 nombres\"\n",
        "    assert abs(resultats[\"moyenne_5_nombres\"] - 3) < 0.01, \"La fonction moyenne ne fonctionne pas correctement pour 5 nombres\"\n",
        "    assert resultats[\"info_personne\"] == None, \"La fonction info_personne devrait retourner None\"\n",
        "    assert 1.9 < resultats[\"temps_attente\"] < 2.1, \"Le décorateur timer ne mesure pas correctement le temps d'exécution\"\n",
        "    assert resultats[\"appliquer_carre\"] == [1, 4, 9, 16, 25], \"La fonction appliquer ne fonctionne pas correctement\"\n",
        "    print(\"Félicitations ! Vous avez réussi l'exercice de niveau intermédiaire.\")\n",
        "\n",
        "test_exercice_intermediaire(resultats)"
      ],
      "metadata": {
        "colab": {
          "base_uri": "https://localhost:8080/"
        },
        "id": "ZpujnUCitb0P",
        "outputId": "5fd07646-ab45-4639-ddef-2bfb2c01e210"
      },
      "execution_count": 54,
      "outputs": [
        {
          "output_type": "stream",
          "name": "stdout",
          "text": [
            "Félicitations ! Vous avez réussi l'exercice de niveau intermédiaire.\n"
          ]
        }
      ]
    },
    {
      "cell_type": "markdown",
      "source": [
        "# Exercice 6"
      ],
      "metadata": {
        "id": "j1fwfK6Mu0E9"
      }
    },
    {
      "cell_type": "code",
      "source": [
        "# 1. Créez une classe 'Rectangle' avec les attributs 'longueur' et 'largeur'\n",
        "# Ajoutez une méthode 'aire' qui retourne l'aire du rectangle\n",
        "# Ajoutez une méthode 'perimetre' qui retourne le périmètre du rectangle\n",
        "class Rectangle:\n",
        "    def __init__(self, longueur, largeur):\n",
        "        # Définir les attributs longueur et largeur\n",
        "        self.longueur = longueur\n",
        "        self.largeur = largeur\n",
        "\n",
        "    def aire(self):\n",
        "        # Retourner l'aire du rectangle (longueur * largeur)\n",
        "        return self.longueur * self.largeur\n",
        "\n",
        "    def perimetre(self):\n",
        "        # Retourner le périmètre du rectangle (2 * (longueur + largeur))\n",
        "        return 2 * (self.longueur + self.largeur)\n",
        "\n",
        "# Ne modifiez pas le code ci-dessous\n",
        "rectangle = Rectangle(5, 3)\n",
        "resultats = {\n",
        "    \"aire\": rectangle.aire(),\n",
        "    \"perimetre\": rectangle.perimetre()\n",
        "}"
      ],
      "metadata": {
        "id": "jP3InfQVu2u_"
      },
      "execution_count": 55,
      "outputs": []
    },
    {
      "cell_type": "code",
      "source": [
        "def test_exercice_facile(resultats):\n",
        "    assert resultats[\"aire\"] == 15, \"La méthode aire ne fonctionne pas correctement\"\n",
        "    assert resultats[\"perimetre\"] == 16, \"La méthode perimetre ne fonctionne pas correctement\"\n",
        "    print(\"Félicitations ! Vous avez réussi l'exercice de niveau facile.\")\n",
        "\n",
        "test_exercice_facile(resultats)"
      ],
      "metadata": {
        "colab": {
          "base_uri": "https://localhost:8080/"
        },
        "id": "wiw253ktu8x4",
        "outputId": "a339f990-38f0-4de3-ea91-d8e3f0af63f9"
      },
      "execution_count": 56,
      "outputs": [
        {
          "output_type": "stream",
          "name": "stdout",
          "text": [
            "Félicitations ! Vous avez réussi l'exercice de niveau facile.\n"
          ]
        }
      ]
    },
    {
      "cell_type": "code",
      "source": [
        "# 1. Créez une classe 'Vehicule' avec les attributs 'marque' et 'modele'\n",
        "# Ajoutez une méthode 'description' qui retourne une chaîne décrivant le véhicule\n",
        "class Vehicule:\n",
        "    def __init__(self, marque, modele):\n",
        "        # Initialisation des attributs marque et modele\n",
        "        self.marque = marque\n",
        "        self.modele = modele\n",
        "\n",
        "    def description(self):\n",
        "        # Retourne une chaîne formatée avec la marque et le modèle\n",
        "        return f\"{self.marque} {self.modele}\"\n",
        "\n",
        "# 2. Créez une classe 'Voiture' qui hérite de 'Vehicule'\n",
        "# Ajoutez un attribut 'nombre_portes'\n",
        "# Surchargez la méthode 'description' pour inclure le nombre de portes\n",
        "class Voiture(Vehicule):\n",
        "    def __init__(self, marque, modele, nombre_portes):\n",
        "        # Appel au constructeur de la classe parente Vehicule\n",
        "        super().__init__(marque, modele)\n",
        "        # Initialisation de l'attribut nombre_portes\n",
        "        self.nombre_portes = nombre_portes\n",
        "\n",
        "    def description(self):\n",
        "        # Utilise la méthode description de la classe parente et ajoute le nombre de portes\n",
        "        return f\"{self.marque} {self.modele} avec {self.nombre_portes} portes\"\n",
        "\n",
        "# Ne modifiez pas le code ci-dessous\n",
        "vehicule = Vehicule(\"Toyota\", \"Corolla\")\n",
        "voiture = Voiture(\"Renault\", \"Clio\", 5)\n",
        "resultats = {\n",
        "    \"description_vehicule\": vehicule.description(),\n",
        "    \"description_voiture\": voiture.description()\n",
        "}"
      ],
      "metadata": {
        "id": "kkNU_xyqu-_0"
      },
      "execution_count": 57,
      "outputs": []
    },
    {
      "cell_type": "code",
      "source": [
        "def test_exercice_intermediaire(resultats):\n",
        "    assert resultats[\"description_vehicule\"] == \"Toyota Corolla\", \"La méthode description de Vehicule ne fonctionne pas correctement\"\n",
        "    assert resultats[\"description_voiture\"] == \"Renault Clio avec 5 portes\", \"La méthode description de Voiture ne fonctionne pas correctement\"\n",
        "    print(\"Félicitations ! Vous avez réussi l'exercice de niveau intermédiaire.\")\n",
        "\n",
        "test_exercice_intermediaire(resultats)"
      ],
      "metadata": {
        "colab": {
          "base_uri": "https://localhost:8080/"
        },
        "id": "_g2zFwxavCfy",
        "outputId": "4f9274ce-f1ca-4335-e9cb-bdb47fa6ce82"
      },
      "execution_count": 58,
      "outputs": [
        {
          "output_type": "stream",
          "name": "stdout",
          "text": [
            "Félicitations ! Vous avez réussi l'exercice de niveau intermédiaire.\n"
          ]
        }
      ]
    },
    {
      "cell_type": "code",
      "source": [
        "# 1. Créez une classe 'Compte' avec un attribut 'solde'\n",
        "# Implémentez les méthodes spéciales __str__, __add__, et __sub__\n",
        "class Compte:\n",
        "    def __init__(self, solde=0):\n",
        "        self.solde = solde\n",
        "\n",
        "    def __str__(self):\n",
        "        # Retourne une chaîne formatée du solde avec 2 décimales\n",
        "        return f\"Solde: {self.solde:.2f}\"\n",
        "\n",
        "    def __add__(self, other):\n",
        "        # Permet d'additionner deux comptes ou un compte et un nombre\n",
        "        if isinstance(other, Compte):\n",
        "            return Compte(self.solde + other.solde)\n",
        "        elif isinstance(other, (int, float)):\n",
        "            return Compte(self.solde + other)\n",
        "        else:\n",
        "            return NotImplemented\n",
        "\n",
        "    def __sub__(self, other):\n",
        "        # Permet de soustraire deux comptes ou un nombre d'un compte\n",
        "        if isinstance(other, Compte):\n",
        "            return Compte(self.solde - other.solde)\n",
        "        elif isinstance(other, (int, float)):\n",
        "            return Compte(self.solde - other)\n",
        "        else:\n",
        "            return NotImplemented\n",
        "\n",
        "# 2. Créez une classe 'CompteEpargne' qui hérite de 'Compte'\n",
        "# Ajoutez un attribut 'taux_interet' et une méthode 'appliquer_interet'\n",
        "class CompteEpargne(Compte):\n",
        "    def __init__(self, solde=0, taux_interet=0.01):\n",
        "        super().__init__(solde)\n",
        "        self.taux_interet = taux_interet\n",
        "\n",
        "    def appliquer_interet(self):\n",
        "        # Applique le taux d'intérêt au solde\n",
        "        self.solde += self.solde * self.taux_interet\n",
        "\n",
        "# Ne modifiez pas le code ci-dessous\n",
        "compte1 = Compte(100)\n",
        "compte2 = Compte(50)\n",
        "compte_epargne = CompteEpargne(1000, 0.05)\n",
        "\n",
        "resultats = {\n",
        "    \"str_compte\": str(compte1),\n",
        "    \"addition_comptes\": str(compte1 + compte2),\n",
        "    \"soustraction_comptes\": str(compte1 - 30),\n",
        "    \"str_compte_epargne\": str(compte_epargne),\n",
        "}\n",
        "\n",
        "compte_epargne.appliquer_interet()\n",
        "resultats[\"compte_epargne_avec_interet\"] = str(compte_epargne)"
      ],
      "metadata": {
        "id": "AMbHDQ5FvEiR"
      },
      "execution_count": 59,
      "outputs": []
    },
    {
      "cell_type": "code",
      "source": [
        "def test_exercice_avance(resultats):\n",
        "    assert resultats[\"str_compte\"] == \"Solde: 100.00\", \"La méthode __str__ de Compte ne fonctionne pas correctement\"\n",
        "    assert resultats[\"addition_comptes\"] == \"Solde: 150.00\", \"La méthode __add__ de Compte ne fonctionne pas correctement\"\n",
        "    assert resultats[\"soustraction_comptes\"] == \"Solde: 70.00\", \"La méthode __sub__ de Compte ne fonctionne pas correctement\"\n",
        "    assert resultats[\"str_compte_epargne\"] == \"Solde: 1000.00\", \"La méthode __str__ de CompteEpargne ne fonctionne pas correctement\"\n",
        "    assert resultats[\"compte_epargne_avec_interet\"] == \"Solde: 1050.00\", \"La méthode appliquer_interet de CompteEpargne ne fonctionne pas correctement\"\n",
        "    print(\"Félicitations ! Vous avez réussi l'exercice de niveau avancé.\")\n",
        "\n",
        "test_exercice_avance(resultats)"
      ],
      "metadata": {
        "colab": {
          "base_uri": "https://localhost:8080/"
        },
        "id": "PkS-oLlLvH8u",
        "outputId": "fbf789a5-76ce-4bc6-cb0a-d400a0d72cf4"
      },
      "execution_count": 60,
      "outputs": [
        {
          "output_type": "stream",
          "name": "stdout",
          "text": [
            "Félicitations ! Vous avez réussi l'exercice de niveau avancé.\n"
          ]
        }
      ]
    },
    {
      "cell_type": "markdown",
      "source": [
        "# Exercice 7"
      ],
      "metadata": {
        "id": "PlXNNaxHxEJj"
      }
    },
    {
      "cell_type": "code",
      "source": [
        "# 1. Créez une fonction 'diviser' qui prend deux nombres en paramètres et retourne leur quotient.\n",
        "# Gérez l'exception ZeroDivisionError et retournez \"Division par zéro impossible\" dans ce cas.\n",
        "def diviser(a, b):\n",
        "    try:\n",
        "        return a / b\n",
        "    except ZeroDivisionError:\n",
        "        return \"Division par zéro impossible\"\n",
        "\n",
        "# 2. Créez une fonction 'lire_fichier' qui prend un nom de fichier en paramètre et affiche son contenu.\n",
        "# Gérez l'exception FileNotFoundError et retournez \"Fichier non trouvé\" dans ce cas.\n",
        "def lire_fichier(nom_fichier):\n",
        "    try:\n",
        "        with open(nom_fichier, 'r') as fichier:\n",
        "            return fichier.read()\n",
        "    except FileNotFoundError:\n",
        "        return \"Fichier non trouvé\"\n",
        "\n",
        "# 3. Créez une fonction 'convertir_en_entier' qui prend une chaîne de caractères en paramètre et la convertit en entier.\n",
        "# Gérez l'exception ValueError et retournez \"Conversion impossible\" dans ce cas.\n",
        "def convertir_en_entier(chaine):\n",
        "    try:\n",
        "        return int(chaine)\n",
        "    except ValueError:\n",
        "        return \"Conversion impossible\"\n",
        "\n",
        "# 4. Créez une fonction 'acceder_element' qui prend une liste et un index en paramètres et retourne l'élément à cet index.\n",
        "# Gérez l'exception IndexError et retournez \"Index hors limites\" dans ce cas.\n",
        "def acceder_element(liste, index):\n",
        "    try:\n",
        "        return liste[index]\n",
        "    except IndexError:\n",
        "        return \"Index hors limites\"\n",
        "\n",
        "# Ne modifiez pas le code ci-dessous\n",
        "resultats = {\n",
        "    \"diviser\": [\n",
        "        diviser(10, 2),\n",
        "        diviser(10, 0)\n",
        "    ],\n",
        "    \"lire_fichier\": [\n",
        "        lire_fichier(\"fichier_existant.txt\"),\n",
        "        lire_fichier(\"fichier_inexistant.txt\")\n",
        "    ],\n",
        "    \"convertir_en_entier\": [\n",
        "        convertir_en_entier(\"42\"),\n",
        "        convertir_en_entier(\"abc\")\n",
        "    ],\n",
        "    \"acceder_element\": [\n",
        "        acceder_element([1, 2, 3], 1),\n",
        "        acceder_element([1, 2, 3], 5)\n",
        "    ]\n",
        "}\n",
        "\n",
        "print(resultats)"
      ],
      "metadata": {
        "colab": {
          "base_uri": "https://localhost:8080/"
        },
        "id": "xi7bKYAQxHGE",
        "outputId": "721e8962-c2fb-4dfa-80e3-e700fa756eef"
      },
      "execution_count": 82,
      "outputs": [
        {
          "output_type": "stream",
          "name": "stdout",
          "text": [
            "{'diviser': [5.0, 'Division par zéro impossible'], 'lire_fichier': ['Fichier non trouvé', 'Fichier non trouvé'], 'convertir_en_entier': [42, 'Conversion impossible'], 'acceder_element': [2, 'Index hors limites']}\n"
          ]
        }
      ]
    },
    {
      "cell_type": "code",
      "source": [
        "# 5. Créez une fonction 'effectuer_operation' qui prend deux nombres et une opération ('+', '-', '*', '/') en paramètres.\n",
        "# Effectuez l'opération demandée et gérez toutes les exceptions possibles.\n",
        "# Si l'opération n'est pas reconnue, levez une exception personnalisée OperationInvalideError.\n",
        "# Définir l'exception personnalisée\n",
        "class OperationInvalideError(Exception):\n",
        "    pass\n",
        "\n",
        "def effectuer_operation(a, b, operation):\n",
        "    # Dictionnaire pour mapper les opérations aux fonctions correspondantes\n",
        "    operations = {\n",
        "        \"+\": a + b,\n",
        "        \"-\": a - b,\n",
        "        \"*\": a * b,\n",
        "        \"/\": a / b if b != 0 else \"Division par zéro impossible\"\n",
        "    }\n",
        "\n",
        "    # Vérifier si l'opération est valide\n",
        "    if operation not in operations:\n",
        "        raise OperationInvalideError(f\"Opération invalide : {operation}\")\n",
        "\n",
        "    # Retourner le résultat de l'opération\n",
        "    result = operations[operation]\n",
        "\n",
        "    if result == \"Division par zéro impossible\":\n",
        "        return result\n",
        "\n",
        "    return result\n",
        "\n",
        "# Ne modifiez pas le code ci-dessous\n",
        "resultats[\"effectuer_operation\"] = []\n",
        "try:\n",
        "    resultats[\"effectuer_operation\"].append(effectuer_operation(10, 5, \"+\"))\n",
        "    resultats[\"effectuer_operation\"].append(effectuer_operation(10, 0, \"/\"))\n",
        "    resultats[\"effectuer_operation\"].append(effectuer_operation(10, 5, \"%\"))\n",
        "except OperationInvalideError as e:\n",
        "    resultats[\"effectuer_operation\"].append(e)"
      ],
      "metadata": {
        "id": "2-AbrkDIxPX0"
      },
      "execution_count": 83,
      "outputs": []
    },
    {
      "cell_type": "code",
      "source": [
        "# Tests mis à jour\n",
        "def test_exercice_exceptions(resultats):\n",
        "    assert resultats[\"diviser\"] == [5.0, \"Division par zéro impossible\"], \"La fonction diviser ne gère pas correctement les exceptions\"\n",
        "    assert resultats[\"lire_fichier\"][1] == \"Fichier non trouvé\", \"La fonction lire_fichier ne gère pas correctement l'exception FileNotFoundError\"\n",
        "    assert resultats[\"convertir_en_entier\"] == [42, \"Conversion impossible\"], \"La fonction convertir_en_entier ne gère pas correctement les exceptions\"\n",
        "    assert resultats[\"acceder_element\"] == [2, \"Index hors limites\"], \"La fonction acceder_element ne gère pas correctement les exceptions\"\n",
        "    assert resultats[\"effectuer_operation\"][:2] == [15, \"Division par zéro impossible\"], \"La fonction effectuer_operation ne gère pas correctement les exceptions de base\"\n",
        "\n",
        "    # Vérifie que l'exception personnalisée est bien levée\n",
        "    if isinstance(resultats[\"effectuer_operation\"][2], OperationInvalideError):\n",
        "        print(\"Félicitations ! Vous avez réussi l'exercice sur la gestion des exceptions.\")\n",
        "    else:\n",
        "        raise AssertionError(\"La fonction effectuer_operation ne lève pas correctement l'exception OperationInvalideError\")\n",
        "\n",
        "test_exercice_exceptions(resultats)"
      ],
      "metadata": {
        "colab": {
          "base_uri": "https://localhost:8080/"
        },
        "id": "XZh_EMZpxaaD",
        "outputId": "7ee173b6-be65-431f-da18-13d6b1714d06"
      },
      "execution_count": 84,
      "outputs": [
        {
          "output_type": "stream",
          "name": "stdout",
          "text": [
            "Félicitations ! Vous avez réussi l'exercice sur la gestion des exceptions.\n"
          ]
        }
      ]
    },
    {
      "cell_type": "markdown",
      "source": [
        "# Exercice 8"
      ],
      "metadata": {
        "id": "hT5idRK62A_r"
      }
    },
    {
      "cell_type": "code",
      "source": [
        "# Importez les modules nécessaires ici\n",
        "import math  # Utilisé pour les fonctions mathématiques\n",
        "import random  # Utilisé pour les opérations aléatoires\n",
        "import json  # Utilisé pour la manipulation des données JSON\n",
        "import datetime  # Utilisé pour les opérations liées aux dates et heures\n",
        "import os  # Utilisé pour les opérations sur le système de fichiers\n",
        "import re  # Utilisé pour les expressions régulières\n",
        "\n",
        "# 1. Utilisez le module 'math' pour calculer la racine carrée de 16 et le cosinus de π/2\n",
        "def calculs_mathematiques():\n",
        "    # Calcul de la racine carrée de 16\n",
        "    racine_carree = math.sqrt(16)\n",
        "    # Calcul du cosinus de π/2 (en radians)\n",
        "    cosinus = math.cos(math.pi / 2)\n",
        "    return racine_carree, cosinus\n",
        "\n",
        "# 2. Utilisez le module 'random' pour générer un nombre aléatoire entre 1 et 100, et pour choisir un élément au hasard dans une liste\n",
        "def operations_aleatoires():\n",
        "    # Génération d'un nombre aléatoire entre 1 et 100\n",
        "    nombre_aleatoire = random.randint(1, 100)\n",
        "    # Choix d'un élément au hasard dans une liste\n",
        "    liste = [\"python\", \"java\", \"c++\", \"javascript\", \"ruby\"]\n",
        "    choix_aleatoire = random.choice(liste)\n",
        "    return nombre_aleatoire, choix_aleatoire\n",
        "\n",
        "# 3. Utilisez le module 'json' pour convertir un dictionnaire en chaîne JSON et vice versa\n",
        "def manipulation_json():\n",
        "    # Conversion d'un dictionnaire en chaîne JSON\n",
        "    dictionnaire = {\"nom\": \"Alice\", \"age\": 30, \"ville\": \"Paris\"}\n",
        "    chaine_json = json.dumps(dictionnaire)\n",
        "    # Conversion de la chaîne JSON en dictionnaire\n",
        "    retour_dictionnaire = json.loads(chaine_json)\n",
        "    return chaine_json, retour_dictionnaire\n",
        "\n",
        "# 4. Utilisez le module 'datetime' pour obtenir la date et l'heure actuelles, et pour calculer la différence entre deux dates\n",
        "def operations_dates():\n",
        "    # Obtention de la date et de l'heure actuelles\n",
        "    date_actuelle = datetime.datetime.now()\n",
        "    # Date future pour le calcul de la différence\n",
        "    date_future = datetime.datetime(2025, 1, 1)\n",
        "    # Calcul de la différence en jours entre les deux dates\n",
        "    difference = date_future - date_actuelle\n",
        "    return date_actuelle, difference.days\n",
        "\n",
        "# 5. Utilisez le module 'os' pour obtenir le répertoire de travail actuel et lister les fichiers qu'il contient\n",
        "def operations_systeme():\n",
        "    # Obtention du répertoire de travail actuel\n",
        "    repertoire_actuel = os.getcwd()\n",
        "    # Liste des fichiers dans le répertoire actuel\n",
        "    liste_fichiers = os.listdir(repertoire_actuel)\n",
        "    return repertoire_actuel, liste_fichiers\n",
        "\n",
        "# 6. Utilisez le module 're' pour trouver tous les nombres dans une chaîne de caractères\n",
        "def extraction_nombres():\n",
        "    # Texte contenant des nombres à extraire\n",
        "    texte = \"Il y a 3 pommes, 2 oranges et 5 bananes dans le panier.\"\n",
        "    # Utilisation d'une expression régulière pour trouver tous les nombres dans le texte\n",
        "    nombres = re.findall(r'\\d+', texte)\n",
        "    return nombres\n",
        "\n",
        "# Ne modifiez pas le code ci-dessous\n",
        "resultats = {\n",
        "    \"calculs_mathematiques\": calculs_mathematiques(),\n",
        "    \"operations_aleatoires\": operations_aleatoires(),\n",
        "    \"manipulation_json\": manipulation_json(),\n",
        "    \"operations_dates\": operations_dates(),\n",
        "    \"operations_systeme\": operations_systeme(),\n",
        "    \"extraction_nombres\": extraction_nombres()\n",
        "}\n",
        "\n",
        "# Affichage des résultats pour vérification\n",
        "print(resultats)\n"
      ],
      "metadata": {
        "colab": {
          "base_uri": "https://localhost:8080/"
        },
        "id": "j9Q4BCww2D8-",
        "outputId": "38056b50-2a02-4f08-c602-7792e46d5c5c"
      },
      "execution_count": 72,
      "outputs": [
        {
          "output_type": "stream",
          "name": "stdout",
          "text": [
            "{'calculs_mathematiques': (4.0, 6.123233995736766e-17), 'operations_aleatoires': (98, 'ruby'), 'manipulation_json': ('{\"nom\": \"Alice\", \"age\": 30, \"ville\": \"Paris\"}', {'nom': 'Alice', 'age': 30, 'ville': 'Paris'}), 'operations_dates': (datetime.datetime(2024, 8, 19, 8, 55, 59, 133076), 134), 'operations_systeme': ('/content', ['.config', 'sample_data']), 'extraction_nombres': ['3', '2', '5']}\n"
          ]
        }
      ]
    },
    {
      "cell_type": "code",
      "source": [
        "def test_exercice_modules(resultats):\n",
        "    assert resultats[\"calculs_mathematiques\"][0] == 4.0, \"Le calcul de la racine carrée n'est pas correct\"\n",
        "    assert abs(resultats[\"calculs_mathematiques\"][1]) < 1e-10, \"Le calcul du cosinus n'est pas correct\"\n",
        "\n",
        "    assert 1 <= resultats[\"operations_aleatoires\"][0] <= 100, \"Le nombre aléatoire n'est pas dans la plage correcte\"\n",
        "    assert resultats[\"operations_aleatoires\"][1] in [\"python\", \"java\", \"c++\", \"javascript\", \"ruby\"], \"Le choix aléatoire n'est pas correct\"\n",
        "\n",
        "    assert isinstance(resultats[\"manipulation_json\"][0], str), \"La conversion en JSON n'est pas correcte\"\n",
        "    assert resultats[\"manipulation_json\"][1] == {\"nom\": \"Alice\", \"age\": 30, \"ville\": \"Paris\"}, \"La conversion de JSON en dictionnaire n'est pas correcte\"\n",
        "\n",
        "    assert isinstance(resultats[\"operations_dates\"][0], datetime.datetime), \"La date actuelle n'est pas correcte\"\n",
        "    assert isinstance(resultats[\"operations_dates\"][1], int) and resultats[\"operations_dates\"][1] > 0, \"Le calcul de la différence de dates n'est pas correct\"\n",
        "\n",
        "    assert os.path.exists(resultats[\"operations_systeme\"][0]), \"Le répertoire actuel n'est pas correct\"\n",
        "    assert isinstance(resultats[\"operations_systeme\"][1], list), \"La liste des fichiers n'est pas correcte\"\n",
        "\n",
        "    assert resultats[\"extraction_nombres\"] == ['3', '2', '5'], \"L'extraction des nombres n'est pas correcte\"\n",
        "\n",
        "    print(\"Félicitations ! Vous avez réussi l'exercice sur les modules et packages.\")\n",
        "\n",
        "test_exercice_modules(resultats)"
      ],
      "metadata": {
        "colab": {
          "base_uri": "https://localhost:8080/"
        },
        "id": "PhpHAHYt2K5A",
        "outputId": "ae937a6d-6456-40c5-a1b9-052816f8b570"
      },
      "execution_count": 73,
      "outputs": [
        {
          "output_type": "stream",
          "name": "stdout",
          "text": [
            "Félicitations ! Vous avez réussi l'exercice sur les modules et packages.\n"
          ]
        }
      ]
    },
    {
      "cell_type": "markdown",
      "source": [
        "# Exercice 9"
      ],
      "metadata": {
        "id": "e05zhSH-2dPx"
      }
    },
    {
      "cell_type": "code",
      "source": [
        "import os\n",
        "\n",
        "# Fonction pour créer un fichier de test\n",
        "def creer_fichier_test(nom_fichier, contenu):\n",
        "    # Crée un fichier et écrit le contenu spécifié\n",
        "    with open(nom_fichier, \"w\") as f:\n",
        "        f.write(contenu)\n",
        "\n",
        "# Créons un fichier de test\n",
        "creer_fichier_test(\"test.txt\", \"Ligne 1\\nLigne 2\\nLigne 3\\n\")\n",
        "\n",
        "# 1. Écrivez une fonction qui lit le contenu d'un fichier et le retourne sous forme de chaîne\n",
        "def lire_fichier(nom_fichier):\n",
        "    # Ouvre le fichier en mode lecture et retourne son contenu sous forme de chaîne\n",
        "    with open(nom_fichier, \"r\") as f:\n",
        "        contenu = f.read()\n",
        "    return contenu\n",
        "\n",
        "# 2. Écrivez une fonction qui lit le contenu d'un fichier ligne par ligne et retourne une liste de lignes\n",
        "def lire_lignes(nom_fichier):\n",
        "    # Ouvre le fichier en mode lecture et retourne une liste de ses lignes\n",
        "    with open(nom_fichier, \"r\") as f:\n",
        "        lignes = f.readlines()\n",
        "    return lignes\n",
        "\n",
        "# 3. Écrivez une fonction qui écrit une chaîne dans un fichier (en écrasant le contenu existant)\n",
        "def ecrire_fichier(nom_fichier, contenu):\n",
        "    # Ouvre le fichier en mode écriture (écrase le contenu existant) et écrit la chaîne spécifiée\n",
        "    with open(nom_fichier, \"w\") as f:\n",
        "        f.write(contenu)\n",
        "\n",
        "# 4. Écrivez une fonction qui ajoute une ligne à la fin d'un fichier existant\n",
        "def ajouter_ligne(nom_fichier, nouvelle_ligne):\n",
        "    # Ouvre le fichier en mode ajout et écrit la nouvelle ligne à la fin du fichier\n",
        "    with open(nom_fichier, \"a\") as f:\n",
        "        f.write(nouvelle_ligne)\n",
        "\n",
        "# 5. Écrivez une fonction qui lit un fichier, remplace toutes les occurrences d'un mot par un autre, et écrit le résultat dans un nouveau fichier\n",
        "def remplacer_mot(nom_fichier_entree, nom_fichier_sortie, ancien_mot, nouveau_mot):\n",
        "    # Ouvre le fichier d'entrée, remplace les occurrences du mot, et écrit dans un nouveau fichier\n",
        "    with open(nom_fichier_entree, \"r\") as f:\n",
        "        contenu = f.read()\n",
        "    # Remplace l'ancien mot par le nouveau\n",
        "    contenu_modifie = contenu.replace(ancien_mot, nouveau_mot)\n",
        "    # Écrit le contenu modifié dans un nouveau fichier\n",
        "    with open(nom_fichier_sortie, \"w\") as f:\n",
        "        f.write(contenu_modifie)\n",
        "\n",
        "# Ne modifiez pas le code ci-dessous\n",
        "resultats = {\n",
        "    \"contenu_initial\": lire_fichier(\"test.txt\"),\n",
        "    \"lignes_initiales\": lire_lignes(\"test.txt\")\n",
        "}\n",
        "\n",
        "# Écrit un nouveau contenu dans un fichier\n",
        "ecrire_fichier(\"nouveau.txt\", \"Nouveau contenu\\n\")\n",
        "resultats[\"nouveau_contenu\"] = lire_fichier(\"nouveau.txt\")\n",
        "\n",
        "# Ajoute une nouvelle ligne au fichier existant\n",
        "ajouter_ligne(\"test.txt\", \"Ligne 4\\n\")\n",
        "resultats[\"contenu_apres_ajout\"] = lire_fichier(\"test.txt\")\n",
        "\n",
        "# Remplace un mot dans le fichier et écrit le résultat dans un nouveau fichier\n",
        "remplacer_mot(\"test.txt\", \"remplace.txt\", \"Ligne\", \"Rangée\")\n",
        "resultats[\"contenu_remplace\"] = lire_fichier(\"remplace.txt\")\n",
        "\n",
        "# Nettoyage des fichiers créés\n",
        "for fichier in [\"test.txt\", \"nouveau.txt\", \"remplace.txt\"]:\n",
        "    if os.path.exists(fichier):\n",
        "        os.remove(fichier)\n",
        "\n",
        "# Affiche les résultats pour vérification\n",
        "print(resultats)"
      ],
      "metadata": {
        "colab": {
          "base_uri": "https://localhost:8080/"
        },
        "id": "2gFJzlxT2fzk",
        "outputId": "af78a9b4-a260-4444-f590-a8e3579a6685"
      },
      "execution_count": 74,
      "outputs": [
        {
          "output_type": "stream",
          "name": "stdout",
          "text": [
            "{'contenu_initial': 'Ligne 1\\nLigne 2\\nLigne 3\\n', 'lignes_initiales': ['Ligne 1\\n', 'Ligne 2\\n', 'Ligne 3\\n'], 'nouveau_contenu': 'Nouveau contenu\\n', 'contenu_apres_ajout': 'Ligne 1\\nLigne 2\\nLigne 3\\nLigne 4\\n', 'contenu_remplace': 'Rangée 1\\nRangée 2\\nRangée 3\\nRangée 4\\n'}\n"
          ]
        }
      ]
    },
    {
      "cell_type": "code",
      "source": [
        "def test_exercice_fichiers(resultats):\n",
        "    assert resultats[\"contenu_initial\"] == \"Ligne 1\\nLigne 2\\nLigne 3\\n\", \"La lecture du fichier initial n'est pas correcte\"\n",
        "    assert resultats[\"lignes_initiales\"] == [\"Ligne 1\\n\", \"Ligne 2\\n\", \"Ligne 3\\n\"], \"La lecture ligne par ligne n'est pas correcte\"\n",
        "    assert resultats[\"nouveau_contenu\"] == \"Nouveau contenu\\n\", \"L'écriture dans un nouveau fichier n'est pas correcte\"\n",
        "    assert resultats[\"contenu_apres_ajout\"] == \"Ligne 1\\nLigne 2\\nLigne 3\\nLigne 4\\n\", \"L'ajout d'une ligne n'est pas correct\"\n",
        "    assert resultats[\"contenu_remplace\"] == \"Rangée 1\\nRangée 2\\nRangée 3\\nRangée 4\\n\", \"Le remplacement de mot n'est pas correct\"\n",
        "    print(\"Félicitations ! Vous avez réussi l'exercice sur la manipulation de fichiers.\")\n",
        "\n",
        "test_exercice_fichiers(resultats)"
      ],
      "metadata": {
        "colab": {
          "base_uri": "https://localhost:8080/"
        },
        "id": "j5nM1U_d2mjB",
        "outputId": "bb3fccbb-0c8f-4919-9085-1a1ef702f362"
      },
      "execution_count": 75,
      "outputs": [
        {
          "output_type": "stream",
          "name": "stdout",
          "text": [
            "Félicitations ! Vous avez réussi l'exercice sur la manipulation de fichiers.\n"
          ]
        }
      ]
    },
    {
      "cell_type": "markdown",
      "source": [
        "# Exercice 10"
      ],
      "metadata": {
        "id": "A-wlJwCK22K3"
      }
    },
    {
      "cell_type": "code",
      "source": [
        "import csv\n",
        "import os\n",
        "\n",
        "# 1. Création d'un fichier CSV de test\n",
        "def creer_csv_test(nom_fichier, donnees):\n",
        "    with open(nom_fichier, 'w', newline='') as file:\n",
        "        writer = csv.writer(file)\n",
        "        writer.writerows(donnees)\n",
        "\n",
        "# Données de test\n",
        "donnees_test = [\n",
        "    ['Nom', 'Age', 'Ville'],\n",
        "    ['Alice', '30', 'Paris'],\n",
        "    ['Bob', '25', 'Lyon'],\n",
        "    ['Charlie', '35', 'Marseille']\n",
        "]\n",
        "creer_csv_test('test.csv', donnees_test)\n",
        "\n",
        "# 2. Lecture d'un fichier CSV en liste de listes\n",
        "def lire_csv(nom_fichier):\n",
        "    if not os.path.exists(nom_fichier):\n",
        "        return []  # Retourne une liste vide si le fichier n'existe pas\n",
        "    with open(nom_fichier, 'r', newline='') as file:\n",
        "        reader = csv.reader(file)\n",
        "        return list(reader)\n",
        "\n",
        "# 3. Lecture d'un fichier CSV en liste de dictionnaires\n",
        "def lire_csv_dict(nom_fichier):\n",
        "    if not os.path.exists(nom_fichier):\n",
        "        return []  # Retourne une liste vide si le fichier n'existe pas\n",
        "    with open(nom_fichier, 'r', newline='') as file:\n",
        "        reader = csv.DictReader(file)\n",
        "        return [dict(row) for row in reader]  # Conversion explicite en dictionnaire\n",
        "\n",
        "# 4. Écriture dans un fichier CSV\n",
        "def ecrire_csv(nom_fichier, donnees):\n",
        "    with open(nom_fichier, 'w', newline='') as file:\n",
        "        writer = csv.writer(file)\n",
        "        writer.writerows(donnees)\n",
        "\n",
        "# 5. Ajout d'une ligne à un fichier CSV existant\n",
        "def ajouter_ligne_csv(nom_fichier, nouvelle_ligne):\n",
        "    with open(nom_fichier, 'a', newline='') as file:\n",
        "        writer = csv.writer(file)\n",
        "        writer.writerow(nouvelle_ligne)\n",
        "\n",
        "# 6. Filtrage d'un fichier CSV\n",
        "def filtrer_csv(nom_fichier_entree, nom_fichier_sortie, fonction_filtre):\n",
        "    if not os.path.exists(nom_fichier_entree):\n",
        "        return  # Ne fait rien si le fichier d'entrée n'existe pas\n",
        "    with open(nom_fichier_entree, 'r', newline='') as file_in, \\\n",
        "         open(nom_fichier_sortie, 'w', newline='') as file_out:\n",
        "        reader = csv.DictReader(file_in)\n",
        "        writer = csv.DictWriter(file_out, fieldnames=reader.fieldnames)\n",
        "        writer.writeheader()\n",
        "        for row in reader:\n",
        "            if fonction_filtre(row):\n",
        "                writer.writerow(row)"
      ],
      "metadata": {
        "id": "iZFSB4Iz24cL"
      },
      "execution_count": 80,
      "outputs": []
    },
    {
      "cell_type": "code",
      "source": [
        "# Code de test\n",
        "resultats = {\n",
        "    \"contenu_initial\": lire_csv('test.csv'),\n",
        "    \"contenu_dict\": lire_csv_dict('test.csv')\n",
        "}\n",
        "\n",
        "nouvelles_donnees = [\n",
        "    ['Nom', 'Age', 'Ville'],\n",
        "    ['David', '40', 'Lille'],\n",
        "    ['Eve', '28', 'Bordeaux']\n",
        "]\n",
        "ecrire_csv('nouveau.csv', nouvelles_donnees)\n",
        "resultats[\"nouveau_contenu\"] = lire_csv('nouveau.csv')\n",
        "\n",
        "ajouter_ligne_csv('test.csv', ['Frank', '45', 'Nice'])\n",
        "resultats[\"contenu_apres_ajout\"] = lire_csv('test.csv')\n",
        "\n",
        "filtrer_csv('test.csv', 'filtre.csv', lambda x: int(x['Age']) > 30)\n",
        "resultats[\"contenu_filtre\"] = lire_csv('filtre.csv')\n",
        "\n",
        "# Fonction de test\n",
        "def test_exercice_csv(resultats):\n",
        "    assert resultats[\"contenu_initial\"] == donnees_test, \"La lecture du fichier CSV initial n'est pas correcte\"\n",
        "    assert resultats[\"contenu_dict\"][0] == {'Nom': 'Alice', 'Age': '30', 'Ville': 'Paris'}, \"La lecture du fichier CSV en tant que dictionnaire n'est pas correcte\"\n",
        "    assert resultats[\"nouveau_contenu\"] == nouvelles_donnees, \"L'écriture dans un nouveau fichier CSV n'est pas correcte\"\n",
        "    assert resultats[\"contenu_apres_ajout\"][-1] == ['Frank', '45', 'Nice'], \"L'ajout d'une ligne au fichier CSV n'est pas correct\"\n",
        "    assert len(resultats[\"contenu_filtre\"]) == 3 and resultats[\"contenu_filtre\"][1][1] > '30', \"Le filtrage du fichier CSV n'est pas correct\"\n",
        "    print(\"Félicitations ! Vous avez réussi l'exercice sur la manipulation de fichiers CSV.\")\n",
        "\n",
        "# Exécution du test\n",
        "test_exercice_csv(resultats)\n",
        "\n",
        "# Nettoyage des fichiers créés\n",
        "for fichier in ['test.csv', 'nouveau.csv', 'filtre.csv']:\n",
        "    if os.path.exists(fichier):\n",
        "        os.remove(fichier)"
      ],
      "metadata": {
        "colab": {
          "base_uri": "https://localhost:8080/"
        },
        "id": "wzhLIAEm3l7o",
        "outputId": "3ea3d9e2-14db-4a63-c1f1-b2284f4929d3"
      },
      "execution_count": 81,
      "outputs": [
        {
          "output_type": "stream",
          "name": "stdout",
          "text": [
            "Félicitations ! Vous avez réussi l'exercice sur la manipulation de fichiers CSV.\n"
          ]
        }
      ]
    }
  ]
}